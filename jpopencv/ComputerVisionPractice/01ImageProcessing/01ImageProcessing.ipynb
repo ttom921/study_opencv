{
 "cells": [
  {
   "cell_type": "markdown",
   "id": "db89f789",
   "metadata": {},
   "source": [
    "# 圖像基本操作\n",
    "參考\n",
    "\n",
    "https://github.com/LeBron-Jian/ComputerVisionPractice\n",
    "\n",
    "# 電腦眼中的圖像\n",
    "\n",
    "\n",
    "![](lena_img.png)\n"
   ]
  },
  {
   "cell_type": "markdown",
   "id": "9856bfb5",
   "metadata": {},
   "source": [
    "# 圖形的加載，顯示和保存\n"
   ]
  },
  {
   "cell_type": "code",
   "execution_count": 9,
   "id": "df2d392c",
   "metadata": {},
   "outputs": [
    {
     "data": {
      "text/plain": [
       "True"
      ]
     },
     "execution_count": 9,
     "metadata": {},
     "output_type": "execute_result"
    }
   ],
   "source": [
    "import cv2\n",
    "\n",
    "# 生成圖片\n",
    "img= cv2.imread(\"lena.jpg\")\n",
    "\n",
    "# 生成灰階圖片\n",
    "imgGray=cv2.imread(\"lena.jpg\",0)\n",
    "\n",
    "# 展示原圖\n",
    "cv2.imshow(\"orgimg\",img)\n",
    "cv2.imshow(\"grayimg\",imgGray)\n",
    "cv2.waitKey()\n",
    "cv2.destroyAllWindows()\n",
    "# 保存灰階圖片\n",
    "cv2.imwrite(\"Copy.jpg\",imgGray)"
   ]
  },
  {
   "cell_type": "markdown",
   "id": "7e711fde",
   "metadata": {},
   "source": [
    "cv2.imread()的函數原型如下\n",
    "```\n",
    "imread(filename, flags=None)\n",
    "```\n",
    "- cv2.IMREAD_COLOR :彩色圖像，透明度會被忽略，默認參睥\n",
    "- cv2.IMREAD_GRAYSCALE:灰階模式\n",
    "- cv2.IMREAD_UNCHANGED:所有顏色通道\n",
    "```\n",
    "+1 = cv2.IMREAD_COLOR\n",
    "0 = cv2.IMREAD_GRAYSCALE\n",
    "-1 = cv2.IMREAD_UNCHANGED\n",
    "```"
   ]
  },
  {
   "cell_type": "markdown",
   "id": "ea4d62ee",
   "metadata": {},
   "source": [
    "# 視頻讀取與處理代碼"
   ]
  },
  {
   "cell_type": "code",
   "execution_count": 14,
   "id": "69f29702",
   "metadata": {},
   "outputs": [],
   "source": [
    "import cv2\n",
    "\n",
    "# 參睥為視頻文件目錄\n",
    "videoc= cv2.VideoCapture('vtest.avi')\n",
    "# VideoCapture對象，參數可以是設備索引或視頻文件名稱，設備索引只是指定哪台攝像機的號碼\n",
    "# 0代表第一台攝像機，1代表第二台攝像機，之後可以逐幀捕獲視頻，但是最後需要釋放捕獲\n",
    "# 調用內置攝像頭\n",
    "# cap = cv2.VideoCapture(0)\n",
    "# 調用usb攝像頭\n",
    "# cap = cv2.VideoCapture(1)\n",
    "\n",
    "# 檢查是否打開正確\n",
    "if videoc.isOpened():\n",
    "    open, frame = videoc.read()\n",
    "else:\n",
    "    open = False\n",
    "   \n",
    "# 逐幀顯示實現視頻播放\n",
    "while open:\n",
    "    ret, frame = videoc.read()\n",
    "    if frame is None:\n",
    "        break\n",
    "    if ret == True:\n",
    "        gray = cv2.cvtColor(frame,cv2.COLOR_BGR2GRAY)\n",
    "        cv2.imshow('result',gray)\n",
    "        if cv2.waitKey(30) & 0xff == 27: #讀取完自動退出\n",
    "        # if cv2.waitKey(1) & 0xFF == ord('q'):  # 讀完按q退出\n",
    "            break\n",
    "            \n",
    "# 釋放攝像頭對象和窗口\n",
    "videoc.release()\n",
    "cv2.destroyAllWindows()\n",
    "    \n"
   ]
  },
  {
   "cell_type": "markdown",
   "id": "8d69b26a",
   "metadata": {},
   "source": [
    "# 視頻保存代碼:"
   ]
  },
  {
   "cell_type": "code",
   "execution_count": 15,
   "id": "705bf623",
   "metadata": {},
   "outputs": [],
   "source": [
    "import numpy as np\n",
    "import cv2\n",
    "# 未測試\n",
    "\n",
    "cap = cv2.VideoCapture(0)\n",
    "\n",
    "# Define the codec and create VideoWriter object\n",
    "fourcc = cv2.VideoWriter_fourcc(*'XVID')\n",
    "out = cv2.VideoWriter('output.avi',fourcc, 20.0, (640,480))\n",
    "\n",
    "while(cap.isOpened()):\n",
    "    ret, frame = cap.read()\n",
    "    if ret==True:\n",
    "        frame = cv2.flip(frame,0)\n",
    " \n",
    "        # write the flipped frame\n",
    "        out.write(frame)\n",
    " \n",
    "        cv2.imshow('frame',frame)\n",
    "        if cv2.waitKey(1) & 0xFF == ord('q'):\n",
    "            break\n",
    "    else:\n",
    "        break\n",
    " \n",
    "# Release everything if job is finished\n",
    "cap.release()\n",
    "out.release()\n",
    "cv2.destroyAllWindows()\n"
   ]
  },
  {
   "cell_type": "markdown",
   "id": "ce57cc72",
   "metadata": {},
   "source": [
    "# 圖像ROI\n",
    "ROI(Region of Interest) 表示感興趣區域\n",
    "![](roi.png)\n",
    "簡易的矩形ROI區域獲取代碥如下\n"
   ]
  },
  {
   "cell_type": "code",
   "execution_count": 18,
   "id": "0dfc650d",
   "metadata": {},
   "outputs": [],
   "source": [
    "import cv2\n",
    "import numpy as np\n",
    "# 畫圖\n",
    "import matplotlib.pyplot as plt\n",
    "\n",
    "#read image\n",
    "img = cv2.imread('irving.jpg')\n",
    "# print(img.shape)  # (458, 558, 3)\n",
    "\n",
    "# 我們自已計算要取的頭部的大小，以及左上角的坐標\n",
    "# 這里左上角的坐標為 w:h= 250 7 區域為100*100\n",
    "roi_zero= img[7:107, 250:350]\n",
    "\n",
    "# 顯示圖像\n",
    "cv2.imshow(\"image\", roi_zero)\n",
    "cv2.waitKey()\n",
    "cv2.destroyAllWindows()\n"
   ]
  },
  {
   "cell_type": "markdown",
   "id": "e35438fb",
   "metadata": {},
   "source": [
    "# 圖像寬高通道數獲取\n",
    "![](image_chanel.png)\n",
    "\n"
   ]
  },
  {
   "cell_type": "code",
   "execution_count": 19,
   "id": "5d20c2b3",
   "metadata": {},
   "outputs": [
    {
     "name": "stdout",
     "output_type": "stream",
     "text": [
      "(414, 500, 3)\n",
      "(414, 500)\n"
     ]
    }
   ],
   "source": [
    "import cv2\n",
    " \n",
    "img = cv2.imread(\"cat.jpg\")\n",
    "imgGrey = cv2.imread(\"cat.jpg\", 0)\n",
    " \n",
    "sp1 = img.shape\n",
    "sp2 = imgGrey.shape\n",
    " \n",
    "print(sp1)\n",
    "print(sp2)\n",
    "# ======輸出=======\n",
    "#(414, 500, 3)\n",
    "#(414, 500)"
   ]
  },
  {
   "cell_type": "markdown",
   "id": "a165b0ad",
   "metadata": {},
   "source": [
    "# 圖像像素數目和圖像數據類型的獲取\n"
   ]
  },
  {
   "cell_type": "code",
   "execution_count": 20,
   "id": "4ff0f451",
   "metadata": {},
   "outputs": [
    {
     "name": "stdout",
     "output_type": "stream",
     "text": [
      "(414, 500, 3)\n",
      "621000\n",
      "uint8\n"
     ]
    }
   ],
   "source": [
    "import cv2\n",
    "import numpy\n",
    " \n",
    "#讀取圖片\n",
    "img = cv2.imread(\"cat.jpg\", cv2.IMREAD_UNCHANGED)\n",
    " \n",
    "#獲取圖像形狀\n",
    "print(img.shape)\n",
    " \n",
    "#獲取像素數目\n",
    "print(img.size)\n",
    " \n",
    "#獲取像素類型\n",
    "print(img.dtype)\n",
    "#(414, 500, 3)\n",
    "#621000 = 414*500*3\n",
    "#uint8"
   ]
  },
  {
   "cell_type": "markdown",
   "id": "5a1d4066",
   "metadata": {},
   "source": [
    "# 生成指定大小的空圖像"
   ]
  },
  {
   "cell_type": "code",
   "execution_count": 21,
   "id": "9e1015e8",
   "metadata": {},
   "outputs": [],
   "source": [
    "import cv2\n",
    "import numpy as np\n",
    " \n",
    "img = cv2.imread(\"cat.jpg\")\n",
    "imgZero = np.zeros(img.shape, np.uint8)\n",
    " \n",
    "imgFix = np.zeros((300, 500, 3), np.uint8)\n",
    "# imgFix = np.zeros((300,500),np.uint8)\n",
    " \n",
    "cv2.imshow(\"img\", img)\n",
    "cv2.imshow(\"imgZero\", imgZero)\n",
    "cv2.imshow(\"imgFix\", imgFix)\n",
    "cv2.waitKey()\n",
    "cv2.destroyAllWindows()"
   ]
  },
  {
   "cell_type": "markdown",
   "id": "06537522",
   "metadata": {},
   "source": [
    "# 訪問和操作圖像像素\n",
    "OpenCV中圖像矩陣的順序是B,G,R。可以直接通過坐標位置訪問和操作圖像像素"
   ]
  },
  {
   "cell_type": "code",
   "execution_count": 28,
   "id": "624a563c",
   "metadata": {},
   "outputs": [
    {
     "name": "stdout",
     "output_type": "stream",
     "text": [
      "(200, 400, 3)\n",
      "[ 22   0 136]\n"
     ]
    }
   ],
   "source": [
    "import cv2\n",
    "\n",
    "img = cv2.imread(\"01.jpg\")\n",
    "print(img.shape)\n",
    "numb = img[50,100]#y , x\n",
    "print(numb)\n",
    "\n",
    "img[50,100] = (255,255,255)\n",
    "cv2.imshow(\"img\", img)\n",
    "cv2.waitKey()\n",
    "cv2.destroyAllWindows()"
   ]
  },
  {
   "cell_type": "markdown",
   "id": "52023631",
   "metadata": {},
   "source": [
    "分開訪問圖像某一通道像值也非常方便"
   ]
  },
  {
   "cell_type": "code",
   "execution_count": 29,
   "id": "557172a6",
   "metadata": {},
   "outputs": [],
   "source": [
    "import cv2\n",
    "  \n",
    "img = cv2.imread(\"01.jpg\")\n",
    "  \n",
    "img[0:100,100:200,0] = 255\n",
    "img[100:200,200:300,1] = 255\n",
    "img[200:300,300:400,2] = 255\n",
    "\n",
    "cv2.imshow(\"img\", img)\n",
    "cv2.waitKey()\n",
    "cv2.destroyAllWindows()"
   ]
  },
  {
   "cell_type": "markdown",
   "id": "37bfda96",
   "metadata": {},
   "source": [
    "更改圖像某一矩形區域的像素值"
   ]
  },
  {
   "cell_type": "code",
   "execution_count": 35,
   "id": "2a1b09d2",
   "metadata": {},
   "outputs": [],
   "source": [
    "import cv2\n",
    "  \n",
    "img = cv2.imread(\"01.jpg\")\n",
    "  \n",
    "img[0:50,1:100] = (255,255,255)\n",
    "\n",
    "cv2.imshow(\"img\", img)\n",
    "cv2.waitKey()\n",
    "cv2.destroyAllWindows()"
   ]
  },
  {
   "cell_type": "markdown",
   "id": "41840fff",
   "metadata": {},
   "source": [
    "優化"
   ]
  },
  {
   "cell_type": "code",
   "execution_count": 37,
   "id": "d43a5054",
   "metadata": {},
   "outputs": [
    {
     "name": "stdout",
     "output_type": "stream",
     "text": [
      "[ 22   0 136]\n",
      "22\n",
      "[255 255 255]\n"
     ]
    }
   ],
   "source": [
    "import cv2\n",
    "import numpy as np\n",
    " \n",
    "img=cv2.imread('01.jpg')\n",
    "px=img[100,100]\n",
    "print(px)\n",
    "blue=img[100,100,0]\n",
    "print(blue)\n",
    " \n",
    "# 我们可以使用类似的方式修改像素值\n",
    "img[100,100]=[255,255,255]\n",
    "print(img[100,100])\n",
    "## [255 255 255]"
   ]
  },
  {
   "cell_type": "code",
   "execution_count": 39,
   "id": "6fab9be5",
   "metadata": {},
   "outputs": [
    {
     "name": "stdout",
     "output_type": "stream",
     "text": [
      "136\n",
      "100\n"
     ]
    }
   ],
   "source": [
    "# 獲取像素及其修改的更好方法\n",
    "import cv2\n",
    "import numpy as np\n",
    " \n",
    "img=cv2.imread('01.jpg')\n",
    "print(img.item(10,10,2))\n",
    "img.itemset((10,10,2),100)\n",
    "print(img.item(10,10,2))\n",
    "    "
   ]
  },
  {
   "cell_type": "markdown",
   "id": "20b00384",
   "metadata": {},
   "source": [
    "# 圖像顏色通道分離與合併"
   ]
  },
  {
   "cell_type": "code",
   "execution_count": 41,
   "id": "232c80d7",
   "metadata": {},
   "outputs": [],
   "source": [
    "import cv2\n",
    "  \n",
    "img = cv2.imread(\"cat.jpg\")\n",
    "  \n",
    "b , g , r = cv2.split(img)\n",
    "  \n",
    "# b = cv2.split(img)[0]\n",
    "# g = cv2.split(img)[1]\n",
    "# r = cv2.split(img)[2]\n",
    "  \n",
    "merged = cv2.merge([b,g,r])\n",
    "  \n",
    "cv2.imshow(\"Blue\",b)\n",
    "cv2.imshow(\"Green\",g)\n",
    "cv2.imshow(\"Red\",r)\n",
    "  \n",
    "cv2.imshow(\"Merged\",merged)\n",
    "cv2.waitKey()\n",
    "cv2.destroyAllWindows()"
   ]
  },
  {
   "cell_type": "code",
   "execution_count": 44,
   "id": "a6aa2470",
   "metadata": {},
   "outputs": [],
   "source": [
    "# 拆分及其合并圖像通道的cv函數\n",
    "import cv2\n",
    "import numpy as np\n",
    " \n",
    " \n",
    "def split_image(img_path):\n",
    "    img = cv2.imread(img_path)\n",
    "    print(img.shape)  # (800, 800, 3)\n",
    "    # b, g, r = cv2.split(img)\n",
    "    # 儘量用下面的來拆分\n",
    "    b = img[:, :, 0]\n",
    "    g = img[:, :, 1]\n",
    "    r = img[:, :, 2]\n",
    "    cv2.imshow('b', b)\n",
    "    cv2.imshow('g', g)\n",
    "    cv2.imshow('r', r)\n",
    "    cv2.waitKey()\n",
    "    cv2.destroyAllWindows()\n",
    " \n",
    " \n",
    "def merge_image(img_path):\n",
    "    img = cv2.imread(img_path)\n",
    "    b, g, r = cv2.split(img)\n",
    "    img = cv2.merge([b, g, r])\n",
    "    cv2.imshow('merge', img)\n",
    "    cv2.waitKey(0)\n",
    "    cv2.destroyAllWindows()\n",
    " \n",
    " \n",
    "if __name__ == '__main__':\n",
    "    img_path = 'durant.jpg'\n",
    "    split_image(img_path)\n",
    "    #merge_image(img_path)"
   ]
  },
  {
   "cell_type": "code",
   "execution_count": 47,
   "id": "835f5e1b",
   "metadata": {},
   "outputs": [],
   "source": [
    "# 我們是所有像素的紅色通道值都為0，直托使用Numpy索引\n",
    "def assign_image(img_path):\n",
    "    img = cv2.imread(img_path)\n",
    "    #b = img[:, :, 0]\n",
    "    #g = img[:, :, 1]\n",
    "    #r = img[:, :, 2]\n",
    "    img[:, :, 2] = 0\n",
    "    cv2.imshow('assign', img)\n",
    "    cv2.waitKey()\n",
    "    cv2.destroyAllWindows()\n",
    " \n",
    "if __name__ == '__main__':\n",
    "    img_path = 'durant.jpg'\n",
    "    assign_image(img_path)"
   ]
  },
  {
   "cell_type": "markdown",
   "id": "d7dcbdb8",
   "metadata": {},
   "source": [
    "# 在圖像上輸出文字\n",
    "putText(img, text, org, fontFace, fontScale, color, thickness=None, lineType=None, bottomLeftOrigin=None)\n",
    "參數意思\n",
    "- img: 圖像\n",
    "- text: 要輸出的文本\n",
    "- org: 文字的起始坐標\n",
    "- fantFace: 字體\n",
    "- fontScale: 字體大小\n",
    "- color: 字體顏色\n",
    "- thickness: 字體組細"
   ]
  },
  {
   "cell_type": "code",
   "execution_count": 48,
   "id": "456bae8e",
   "metadata": {},
   "outputs": [],
   "source": [
    "import cv2\n",
    " \n",
    "img = cv2.imread(\"durant.jpg\")\n",
    " \n",
    "cv2.putText(img, \"durant is my favorite super star\", (100, 100), cv2.FONT_HERSHEY_SIMPLEX, 1, (0, 0, 255))\n",
    " \n",
    "cv2.imshow(\"img\", img)\n",
    "cv2.waitKey()\n",
    "cv2.destroyAllWindows()\n",
    " "
   ]
  },
  {
   "cell_type": "markdown",
   "id": "67bdb949",
   "metadata": {},
   "source": [
    "# cv2.cvtColor()函數用法介紹\n",
    "在圖像處理過程中，常常需要用到灰度圖像值，二值圖值，HSV,HSI\n",
    "cvtColor(src, code, dst=None, dstCn=None)\n",
    "- src 表示輸入圖像，需要進行顏色空間變換的原圖像\n",
    "- dst表示輸出圖像，其大小和深度與src一致\n",
    "- code表示轉換的代碼或標識\n",
    "- dstCn表示目標圖像通道數，其值為0時，則有src和code決定\n"
   ]
  },
  {
   "cell_type": "code",
   "execution_count": 55,
   "id": "d9578305",
   "metadata": {},
   "outputs": [
    {
     "data": {
      "image/png": "[encoded data removed]",
      "text/plain": [
       "<Figure size 432x288 with 9 Axes>"
      ]
     },
     "metadata": {},
     "output_type": "display_data"
    }
   ],
   "source": [
    "# 下面代碼有九慟常見的顏色空間，BGR、RGB、GRAY、HSV、YCrCb、HLS、XYZ、LAB和YUV\n",
    "import cv2 \n",
    "import numpy as np \n",
    "import matplotlib.pyplot as plt\n",
    "\n",
    "#讀取原始圖像\n",
    "img_BGR = cv2.imread('durant.jpg')\n",
    "\n",
    "#BGR轉为RGB\n",
    "img_RGB = cv2.cvtColor(img_BGR, cv2.COLOR_BGR2RGB)\n",
    "\n",
    "#灰度化處理\n",
    "img_GRAY = cv2.cvtColor(img_BGR, cv2.COLOR_BGR2GRAY)\n",
    " \n",
    "#BGR轉HSV\n",
    "img_HSV = cv2.cvtColor(img_BGR, cv2.COLOR_BGR2HSV)\n",
    " \n",
    "#BGR轉YCrCb\n",
    "img_YCrCb = cv2.cvtColor(img_BGR, cv2.COLOR_BGR2YCrCb)\n",
    " \n",
    "#BGR轉HLS\n",
    "img_HLS = cv2.cvtColor(img_BGR, cv2.COLOR_BGR2HLS)\n",
    " \n",
    "#BGR轉XYZ\n",
    "img_XYZ = cv2.cvtColor(img_BGR, cv2.COLOR_BGR2XYZ)\n",
    " \n",
    "#BGR轉LAB\n",
    "img_LAB = cv2.cvtColor(img_BGR, cv2.COLOR_BGR2LAB)\n",
    " \n",
    "#BGR轉YUV\n",
    "img_YUV = cv2.cvtColor(img_BGR, cv2.COLOR_BGR2YUV)\n",
    "\n",
    "#調用matplotlib顯示處理結果\n",
    "titles = ['BGR', 'RGB', 'GRAY', 'HSV', 'YCrCb', 'HLS', 'XYZ', 'LAB', 'YUV'] \n",
    "images = [img_BGR, img_RGB, img_GRAY, img_HSV, img_YCrCb,\n",
    "          img_HLS, img_XYZ, img_LAB, img_YUV] \n",
    "\n",
    "for i in range(9):\n",
    "    plt.subplot(3,3,i+1),plt.imshow(images[i],'gray')\n",
    "    plt.title(titles[i])\n",
    "    plt.xticks([]),plt.yticks([])\n",
    "plt.show()    \n"
   ]
  },
  {
   "cell_type": "code",
   "execution_count": 56,
   "id": "f8e93eaa",
   "metadata": {},
   "outputs": [
    {
     "name": "stdout",
     "output_type": "stream",
     "text": [
      "['COLOR_BAYER_BG2BGR', 'COLOR_BAYER_BG2BGRA', 'COLOR_BAYER_BG2BGR_EA', 'COLOR_BAYER_BG2BGR_VNG', 'COLOR_BAYER_BG2GRAY', 'COLOR_BAYER_BG2RGB', 'COLOR_BAYER_BG2RGBA', 'COLOR_BAYER_BG2RGB_EA', 'COLOR_BAYER_BG2RGB_VNG', 'COLOR_BAYER_GB2BGR', 'COLOR_BAYER_GB2BGRA', 'COLOR_BAYER_GB2BGR_EA', 'COLOR_BAYER_GB2BGR_VNG', 'COLOR_BAYER_GB2GRAY', 'COLOR_BAYER_GB2RGB', 'COLOR_BAYER_GB2RGBA', 'COLOR_BAYER_GB2RGB_EA', 'COLOR_BAYER_GB2RGB_VNG', 'COLOR_BAYER_GR2BGR', 'COLOR_BAYER_GR2BGRA', 'COLOR_BAYER_GR2BGR_EA', 'COLOR_BAYER_GR2BGR_VNG', 'COLOR_BAYER_GR2GRAY', 'COLOR_BAYER_GR2RGB', 'COLOR_BAYER_GR2RGBA', 'COLOR_BAYER_GR2RGB_EA', 'COLOR_BAYER_GR2RGB_VNG', 'COLOR_BAYER_RG2BGR', 'COLOR_BAYER_RG2BGRA', 'COLOR_BAYER_RG2BGR_EA', 'COLOR_BAYER_RG2BGR_VNG', 'COLOR_BAYER_RG2GRAY', 'COLOR_BAYER_RG2RGB', 'COLOR_BAYER_RG2RGBA', 'COLOR_BAYER_RG2RGB_EA', 'COLOR_BAYER_RG2RGB_VNG', 'COLOR_BGR2BGR555', 'COLOR_BGR2BGR565', 'COLOR_BGR2BGRA', 'COLOR_BGR2GRAY', 'COLOR_BGR2HLS', 'COLOR_BGR2HLS_FULL', 'COLOR_BGR2HSV', 'COLOR_BGR2HSV_FULL', 'COLOR_BGR2LAB', 'COLOR_BGR2LUV', 'COLOR_BGR2Lab', 'COLOR_BGR2Luv', 'COLOR_BGR2RGB', 'COLOR_BGR2RGBA', 'COLOR_BGR2XYZ', 'COLOR_BGR2YCR_CB', 'COLOR_BGR2YCrCb', 'COLOR_BGR2YUV', 'COLOR_BGR2YUV_I420', 'COLOR_BGR2YUV_IYUV', 'COLOR_BGR2YUV_YV12', 'COLOR_BGR5552BGR', 'COLOR_BGR5552BGRA', 'COLOR_BGR5552GRAY', 'COLOR_BGR5552RGB', 'COLOR_BGR5552RGBA', 'COLOR_BGR5652BGR', 'COLOR_BGR5652BGRA', 'COLOR_BGR5652GRAY', 'COLOR_BGR5652RGB', 'COLOR_BGR5652RGBA', 'COLOR_BGRA2BGR', 'COLOR_BGRA2BGR555', 'COLOR_BGRA2BGR565', 'COLOR_BGRA2GRAY', 'COLOR_BGRA2RGB', 'COLOR_BGRA2RGBA', 'COLOR_BGRA2YUV_I420', 'COLOR_BGRA2YUV_IYUV', 'COLOR_BGRA2YUV_YV12', 'COLOR_BayerBG2BGR', 'COLOR_BayerBG2BGRA', 'COLOR_BayerBG2BGR_EA', 'COLOR_BayerBG2BGR_VNG', 'COLOR_BayerBG2GRAY', 'COLOR_BayerBG2RGB', 'COLOR_BayerBG2RGBA', 'COLOR_BayerBG2RGB_EA', 'COLOR_BayerBG2RGB_VNG', 'COLOR_BayerGB2BGR', 'COLOR_BayerGB2BGRA', 'COLOR_BayerGB2BGR_EA', 'COLOR_BayerGB2BGR_VNG', 'COLOR_BayerGB2GRAY', 'COLOR_BayerGB2RGB', 'COLOR_BayerGB2RGBA', 'COLOR_BayerGB2RGB_EA', 'COLOR_BayerGB2RGB_VNG', 'COLOR_BayerGR2BGR', 'COLOR_BayerGR2BGRA', 'COLOR_BayerGR2BGR_EA', 'COLOR_BayerGR2BGR_VNG', 'COLOR_BayerGR2GRAY', 'COLOR_BayerGR2RGB', 'COLOR_BayerGR2RGBA', 'COLOR_BayerGR2RGB_EA', 'COLOR_BayerGR2RGB_VNG', 'COLOR_BayerRG2BGR', 'COLOR_BayerRG2BGRA', 'COLOR_BayerRG2BGR_EA', 'COLOR_BayerRG2BGR_VNG', 'COLOR_BayerRG2GRAY', 'COLOR_BayerRG2RGB', 'COLOR_BayerRG2RGBA', 'COLOR_BayerRG2RGB_EA', 'COLOR_BayerRG2RGB_VNG', 'COLOR_COLORCVT_MAX', 'COLOR_GRAY2BGR', 'COLOR_GRAY2BGR555', 'COLOR_GRAY2BGR565', 'COLOR_GRAY2BGRA', 'COLOR_GRAY2RGB', 'COLOR_GRAY2RGBA', 'COLOR_HLS2BGR', 'COLOR_HLS2BGR_FULL', 'COLOR_HLS2RGB', 'COLOR_HLS2RGB_FULL', 'COLOR_HSV2BGR', 'COLOR_HSV2BGR_FULL', 'COLOR_HSV2RGB', 'COLOR_HSV2RGB_FULL', 'COLOR_LAB2BGR', 'COLOR_LAB2LBGR', 'COLOR_LAB2LRGB', 'COLOR_LAB2RGB', 'COLOR_LBGR2LAB', 'COLOR_LBGR2LUV', 'COLOR_LBGR2Lab', 'COLOR_LBGR2Luv', 'COLOR_LRGB2LAB', 'COLOR_LRGB2LUV', 'COLOR_LRGB2Lab', 'COLOR_LRGB2Luv', 'COLOR_LUV2BGR', 'COLOR_LUV2LBGR', 'COLOR_LUV2LRGB', 'COLOR_LUV2RGB', 'COLOR_Lab2BGR', 'COLOR_Lab2LBGR', 'COLOR_Lab2LRGB', 'COLOR_Lab2RGB', 'COLOR_Luv2BGR', 'COLOR_Luv2LBGR', 'COLOR_Luv2LRGB', 'COLOR_Luv2RGB', 'COLOR_M_RGBA2RGBA', 'COLOR_RGB2BGR', 'COLOR_RGB2BGR555', 'COLOR_RGB2BGR565', 'COLOR_RGB2BGRA', 'COLOR_RGB2GRAY', 'COLOR_RGB2HLS', 'COLOR_RGB2HLS_FULL', 'COLOR_RGB2HSV', 'COLOR_RGB2HSV_FULL', 'COLOR_RGB2LAB', 'COLOR_RGB2LUV', 'COLOR_RGB2Lab', 'COLOR_RGB2Luv', 'COLOR_RGB2RGBA', 'COLOR_RGB2XYZ', 'COLOR_RGB2YCR_CB', 'COLOR_RGB2YCrCb', 'COLOR_RGB2YUV', 'COLOR_RGB2YUV_I420', 'COLOR_RGB2YUV_IYUV', 'COLOR_RGB2YUV_YV12', 'COLOR_RGBA2BGR', 'COLOR_RGBA2BGR555', 'COLOR_RGBA2BGR565', 'COLOR_RGBA2BGRA', 'COLOR_RGBA2GRAY', 'COLOR_RGBA2M_RGBA', 'COLOR_RGBA2RGB', 'COLOR_RGBA2YUV_I420', 'COLOR_RGBA2YUV_IYUV', 'COLOR_RGBA2YUV_YV12', 'COLOR_RGBA2mRGBA', 'COLOR_XYZ2BGR', 'COLOR_XYZ2RGB', 'COLOR_YCR_CB2BGR', 'COLOR_YCR_CB2RGB', 'COLOR_YCrCb2BGR', 'COLOR_YCrCb2RGB', 'COLOR_YUV2BGR', 'COLOR_YUV2BGRA_I420', 'COLOR_YUV2BGRA_IYUV', 'COLOR_YUV2BGRA_NV12', 'COLOR_YUV2BGRA_NV21', 'COLOR_YUV2BGRA_UYNV', 'COLOR_YUV2BGRA_UYVY', 'COLOR_YUV2BGRA_Y422', 'COLOR_YUV2BGRA_YUNV', 'COLOR_YUV2BGRA_YUY2', 'COLOR_YUV2BGRA_YUYV', 'COLOR_YUV2BGRA_YV12', 'COLOR_YUV2BGRA_YVYU', 'COLOR_YUV2BGR_I420', 'COLOR_YUV2BGR_IYUV', 'COLOR_YUV2BGR_NV12', 'COLOR_YUV2BGR_NV21', 'COLOR_YUV2BGR_UYNV', 'COLOR_YUV2BGR_UYVY', 'COLOR_YUV2BGR_Y422', 'COLOR_YUV2BGR_YUNV', 'COLOR_YUV2BGR_YUY2', 'COLOR_YUV2BGR_YUYV', 'COLOR_YUV2BGR_YV12', 'COLOR_YUV2BGR_YVYU', 'COLOR_YUV2GRAY_420', 'COLOR_YUV2GRAY_I420', 'COLOR_YUV2GRAY_IYUV', 'COLOR_YUV2GRAY_NV12', 'COLOR_YUV2GRAY_NV21', 'COLOR_YUV2GRAY_UYNV', 'COLOR_YUV2GRAY_UYVY', 'COLOR_YUV2GRAY_Y422', 'COLOR_YUV2GRAY_YUNV', 'COLOR_YUV2GRAY_YUY2', 'COLOR_YUV2GRAY_YUYV', 'COLOR_YUV2GRAY_YV12', 'COLOR_YUV2GRAY_YVYU', 'COLOR_YUV2RGB', 'COLOR_YUV2RGBA_I420', 'COLOR_YUV2RGBA_IYUV', 'COLOR_YUV2RGBA_NV12', 'COLOR_YUV2RGBA_NV21', 'COLOR_YUV2RGBA_UYNV', 'COLOR_YUV2RGBA_UYVY', 'COLOR_YUV2RGBA_Y422', 'COLOR_YUV2RGBA_YUNV', 'COLOR_YUV2RGBA_YUY2', 'COLOR_YUV2RGBA_YUYV', 'COLOR_YUV2RGBA_YV12', 'COLOR_YUV2RGBA_YVYU', 'COLOR_YUV2RGB_I420', 'COLOR_YUV2RGB_IYUV', 'COLOR_YUV2RGB_NV12', 'COLOR_YUV2RGB_NV21', 'COLOR_YUV2RGB_UYNV', 'COLOR_YUV2RGB_UYVY', 'COLOR_YUV2RGB_Y422', 'COLOR_YUV2RGB_YUNV', 'COLOR_YUV2RGB_YUY2', 'COLOR_YUV2RGB_YUYV', 'COLOR_YUV2RGB_YV12', 'COLOR_YUV2RGB_YVYU', 'COLOR_YUV420P2BGR', 'COLOR_YUV420P2BGRA', 'COLOR_YUV420P2GRAY', 'COLOR_YUV420P2RGB', 'COLOR_YUV420P2RGBA', 'COLOR_YUV420SP2BGR', 'COLOR_YUV420SP2BGRA', 'COLOR_YUV420SP2GRAY', 'COLOR_YUV420SP2RGB', 'COLOR_YUV420SP2RGBA', 'COLOR_YUV420p2BGR', 'COLOR_YUV420p2BGRA', 'COLOR_YUV420p2GRAY', 'COLOR_YUV420p2RGB', 'COLOR_YUV420p2RGBA', 'COLOR_YUV420sp2BGR', 'COLOR_YUV420sp2BGRA', 'COLOR_YUV420sp2GRAY', 'COLOR_YUV420sp2RGB', 'COLOR_YUV420sp2RGBA', 'COLOR_mRGBA2RGBA']\n"
     ]
    }
   ],
   "source": [
    "# 查看參數全部類型\n",
    "import cv2\n",
    "flags = [i for i in dir(cv2) if i.startswith('COLOR_')]\n",
    "print(flags)"
   ]
  },
  {
   "cell_type": "code",
   "execution_count": null,
   "id": "e10dfe49",
   "metadata": {},
   "outputs": [],
   "source": []
  },
  {
   "cell_type": "code",
   "execution_count": null,
   "id": "e5658701",
   "metadata": {},
   "outputs": [],
   "source": []
  },
  {
   "cell_type": "code",
   "execution_count": null,
   "id": "3408aabd",
   "metadata": {},
   "outputs": [],
   "source": []
  },
  {
   "cell_type": "markdown",
   "id": "2820a3d0",
   "metadata": {},
   "source": [
    "### 這是參考\n",
    "https://github.com/Ayonveig/pycv-training"
   ]
  },
  {
   "cell_type": "markdown",
   "id": "146b7c81",
   "metadata": {},
   "source": [
    "https://github.com/LeBron-Jian/ComputerVisionPractice\n"
   ]
  }
 ],
 "metadata": {
  "kernelspec": {
   "display_name": "Python 3",
   "language": "python",
   "name": "python3"
  },
  "language_info": {
   "codemirror_mode": {
    "name": "ipython",
    "version": 3
   },
   "file_extension": ".py",
   "mimetype": "text/x-python",
   "name": "python",
   "nbconvert_exporter": "python",
   "pygments_lexer": "ipython3",
   "version": "3.8.8"
  }
 },
 "nbformat": 4,
 "nbformat_minor": 5
}
